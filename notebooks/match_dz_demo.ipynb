{
 "cells": [
  {
   "cell_type": "code",
   "execution_count": 1,
   "metadata": {},
   "outputs": [],
   "source": [
    "%load_ext autoreload\n",
    "%autoreload 2"
   ]
  },
  {
   "cell_type": "code",
   "execution_count": 2,
   "metadata": {},
   "outputs": [],
   "source": [
    "import matplotlib.pyplot as plt\n",
    "import numpy as np\n",
    "from LSsurf.smooth_xytb_fit_aug import smooth_xytb_fit_aug\n",
    "from LSsurf.match_priors import match_prior_dz\n",
    "import pointCollection as pc"
   ]
  },
  {
   "cell_type": "code",
   "execution_count": 3,
   "metadata": {},
   "outputs": [],
   "source": [
    "%matplotlib widget"
   ]
  },
  {
   "cell_type": "code",
   "execution_count": 4,
   "metadata": {},
   "outputs": [],
   "source": [
    "# define the domain's width in x, y, and time\n",
    "W={'x':1.e4,'y':1.e4,'t':12}\n",
    "# define the grid center:\n",
    "ctr={'x':0., 'y':0., 't':0.}\n",
    "# define the grid spacing\n",
    "p_spacing={'z0':100, 'dz':1000, 'dt':0.25}"
   ]
  },
  {
   "cell_type": "code",
   "execution_count": 5,
   "metadata": {},
   "outputs": [],
   "source": [
    "x0=np.arange(-W['x']/2, W['x']/2+p_spacing['dz'], p_spacing['dz'])\n",
    "t0=np.arange(-W['t']/2, W['t']/2+p_spacing['dt'], p_spacing['dt'])\n",
    "lambda_x=5000\n",
    "prior_amp=10\n",
    "prior_sigma=0.1\n",
    "\n",
    "xp, yp, tp=np.meshgrid(x0+W['x']/2, x0, t0)\n",
    "\n",
    "Dg=pc.grid.data().from_dict({'x':xp[0,:,0].ravel(), 'y':x0,\n",
    "                             'dz':(tp-t0[0])/W['t']*prior_amp*np.cos(2*np.pi*yp/lambda_x),\n",
    "                             'time':t0, 'sigma_dz':np.zeros_like(xp)+prior_sigma})\n",
    "\n",
    "Dg.to_h5('match_dz_data.h5', group='dz', replace=True)\n"
   ]
  },
  {
   "cell_type": "code",
   "execution_count": 6,
   "metadata": {},
   "outputs": [],
   "source": [
    "#Define a minimal dataset (so that the 'data' variable is not empty)\n",
    "y=np.arange(-W['y']/2, W['y']/2+100, 1000)\n",
    "lambda_x=2000\n",
    "data_sigma=100\n",
    "D=pc.data().from_dict({'x':np.zeros_like(y)-W['x']/2+1000, 'y':y,'z':np.zeros_like(y),\n",
    "                       'time':np.zeros_like(y)-0.5, 'sigma':np.zeros_like(y)+data_sigma})\n",
    "# To ensure a time-constant simulation, replicate the data at times -0.5 and 0.5:\n",
    "data=pc.data().from_list([D, D.copy().assign({'time':np.zeros_like(y)+0.5})])\n"
   ]
  },
  {
   "cell_type": "code",
   "execution_count": 7,
   "metadata": {},
   "outputs": [
    {
     "data": {
      "application/vnd.jupyter.widget-view+json": {
       "model_id": "8f02ccb748b24056ae592eec5f131fb6",
       "version_major": 2,
       "version_minor": 0
      },
      "text/plain": [
       "Canvas(toolbar=Toolbar(toolitems=[('Home', 'Reset original view', 'home', 'home'), ('Back', 'Back to previous …"
      ]
     },
     "metadata": {},
     "output_type": "display_data"
    },
    {
     "data": {
      "text/plain": [
       "Text(0, 0.5, 'y')"
      ]
     },
     "execution_count": 7,
     "metadata": {},
     "output_type": "execute_result"
    }
   ],
   "source": [
    "plt.figure()\n",
    "plt.imshow(Dg.dz[:,:,-1], extent=Dg.extent)\n",
    "plt.plot(data.x, data.y,'.')\n",
    "plt.colorbar(label='last dz surface')\n",
    "plt.xlabel('x')\n",
    "plt.ylabel('y')"
   ]
  },
  {
   "cell_type": "code",
   "execution_count": 8,
   "metadata": {},
   "outputs": [
    {
     "name": "stdout",
     "output_type": "stream",
     "text": [
      "[array([-5000.,  5000.]), array([    0., 10000.]), array([-6.,  6.])]\n",
      "initial: 21:\n",
      "starting qr solve for iteration 0 at Thu Jan  6 16:51:12 2022\n",
      "found 22 in TSE, sigma_extra_pre = nan, sigma_extra=0.000,  dt=  2\n",
      "Starting uncertainty calculation\n",
      "\tUncertainty propagation took 127.31 seconds\n"
     ]
    }
   ],
   "source": [
    "import pdb\n",
    "E_d3zdx2dt=0.001\n",
    "E_d2z0dx2=0.01\n",
    "E_d2zdt2=4000\n",
    "\n",
    "data_gap_scale=5000\n",
    "E_RMS={'d2z0_dx2':E_d2z0dx2, 'dz0_dx':E_d2z0dx2*data_gap_scale, 'd3z_dx2dt':E_d3zdx2dt, 'd2z_dxdt':E_d3zdx2dt*data_gap_scale,  'd2z_dt2':E_d2zdt2}\n",
    "\n",
    "prior_args={'filenames':['match_dz_data.h5']}\n",
    "\n",
    "m_spacing={'z0':100, 'dz':1000, 'dt':0.25}\n",
    "ref_epoch=np.ceil(W['t']/m_spacing['dt']/2.)\n",
    "\n",
    "# run the fit\n",
    "S=smooth_xytb_fit_aug(data=data, ctr=ctr, W=W, spacing=m_spacing, E_RMS=E_RMS,\n",
    "                 reference_epoch=ref_epoch, compute_E=True,\n",
    "                 max_iterations=1, prior_args=prior_args,\n",
    "                 VERBOSE=True,\n",
    "                 dzdt_lags=[1])\n"
   ]
  },
  {
   "cell_type": "code",
   "execution_count": 11,
   "metadata": {},
   "outputs": [
    {
     "data": {
      "application/vnd.jupyter.widget-view+json": {
       "model_id": "7672b25884e140fa97f3d27b65dab505",
       "version_major": 2,
       "version_minor": 0
      },
      "text/plain": [
       "Canvas(toolbar=Toolbar(toolitems=[('Home', 'Reset original view', 'home', 'home'), ('Back', 'Back to previous …"
      ]
     },
     "metadata": {},
     "output_type": "display_data"
    },
    {
     "data": {
      "text/plain": [
       "Text(0, 0.5, 'Error')"
      ]
     },
     "execution_count": 11,
     "metadata": {},
     "output_type": "execute_result"
    }
   ],
   "source": [
    "hfig, hax=plt.subplots(2, 2); hax=hax.ravel()\n",
    "hi=hax[0].imshow(S['m']['dz'].dz[:,:,-1], extent=S['m']['dz'].extent); plt.colorbar(mappable=hi, ax=hax[0])\n",
    "hax[0].plot(S['E']['sigma_dz'].x[-3]+np.zeros(S['E']['sigma_dz'].shape[0]), S['E']['sigma_dz'].y, 'k')\n",
    "hax[0].plot(S['E']['sigma_dz'].x, S['E']['sigma_dz'].y[-3]+np.zeros(S['E']['sigma_dz'].shape[1]), 'w')\n",
    "\n",
    "hax[1].plot(S['E']['sigma_dz'].sigma_dz[:, -3, :], S['E']['sigma_dz'].y); hax[1].set_xlabel('Error'); hax[1].set_ylabel('y')\n",
    "hax[2].plot(S['E']['sigma_dz'].x, S['E']['sigma_dz'].sigma_dz[-3, :, :]); hax[2].set_ylabel('Error'); hax[2].set_xlabel('x')\n",
    "hax[3].plot(S['E']['sigma_dz'].time, S['E']['sigma_dz'].sigma_dz[:,-3,:].T)\n",
    "hax[3].set_xlabel('t'); hax[3].set_ylabel('Error')\n",
    "\n"
   ]
  },
  {
   "cell_type": "code",
   "execution_count": 10,
   "metadata": {},
   "outputs": [
    {
     "data": {
      "text/plain": [
       "array([0.10521561])"
      ]
     },
     "execution_count": 10,
     "metadata": {},
     "output_type": "execute_result"
    }
   ],
   "source": [
    "t_ind = np.flatnonzero(S['E']['sigma_dz'].time==2)\n",
    "x_ind = np.flatnonzero(S['E']['sigma_dz'].x==3000)\n",
    "y_ind = np.flatnonzero(S['E']['sigma_dz'].y==0)\n",
    "\n",
    "S['E']['sigma_dz'].sigma_dz[y_ind, x_ind, t_ind]\n"
   ]
  },
  {
   "cell_type": "code",
   "execution_count": null,
   "metadata": {},
   "outputs": [],
   "source": [
    "S_dict_sigma={}\n",
    "for this_sigma_prior in [0.01, 0.05, 0.1, 0.5, 1., 5., 10.]:\n",
    "    print(this_sigma_prior)\n",
    "    D_prior=pc.grid.data().from_dict({'x':xp[0,:,0].ravel(), 'y':x0,\n",
    "                             'dz':(tp-t0[0])/W['t']*prior_amp*np.cos(2*np.pi*yp/lambda_x),\n",
    "                             'time':t0, 'sigma_dz':np.zeros_like(xp)+this_sigma_prior})\n",
    "    D_prior.to_h5('match_dz_data.h5', group='dz', replace=True)\n",
    "    S_dict_sigma[this_sigma_prior]=\\\n",
    "        smooth_xytb_fit_aug(data=data, ctr=ctr, W=W, spacing=m_spacing, E_RMS=E_RMS,\n",
    "                 reference_epoch=ref_epoch, compute_E=True,\n",
    "                 max_iterations=1, prior_args=prior_args,\n",
    "                 VERBOSE=False,\n",
    "                 dzdt_lags=[1])    \n",
    "\n"
   ]
  },
  {
   "cell_type": "code",
   "execution_count": null,
   "metadata": {},
   "outputs": [],
   "source": [
    "sigma_prior_vals=np.array(list(S_dict_sigma.keys()))\n",
    "sigma_dz_vals=sigma_prior_vals*np.NaN\n",
    "\n",
    "for ii, key in enumerate(sigma_prior_vals):\n",
    "    Si =S_dict_sigma[key]\n",
    "\n",
    "    t_ind = np.flatnonzero(Si['E']['sigma_dz'].time==2)\n",
    "    x_ind = np.flatnonzero(Si['E']['sigma_dz'].x==3000)\n",
    "    y_ind = np.flatnonzero(Si['E']['sigma_dz'].y==0)\n",
    "\n",
    "    sigma_dz_vals[ii] = Si['E']['sigma_dz'].sigma_dz[y_ind, x_ind, t_ind]\n",
    "\n",
    "plt.figure(); plt.loglog(sigma_prior_vals, sigma_dz_vals,'.')\n",
    "plt.loglog(sigma_prior_vals, sigma_prior_vals)\n"
   ]
  },
  {
   "cell_type": "markdown",
   "metadata": {},
   "source": [
    "Assume that $\\sigma$ values are equal to the error-weighted sum of two components: \n",
    "$$sigma^{-2} = (A \\sigma_d)^{-2} + \\sigma_{bg}^{-2}$$\n"
   ]
  },
  {
   "cell_type": "code",
   "execution_count": null,
   "metadata": {},
   "outputs": [],
   "source": [
    "G=np.c_[sigma_prior_vals**-2, np.ones_like(sigma_prior_vals)]\n",
    "m=np.linalg.inv(G.T.dot(G)).dot(G.T).dot(sigma_dz_vals**-2)\n",
    "\n",
    "minv2=m**-2\n",
    "plt.plot(sigma_prior_vals, ((minv2[0]*sigma_prior_vals)**-2+minv2[1]**-1)**-2, label='inverse-squared weight')"
   ]
  },
  {
   "cell_type": "markdown",
   "metadata": {},
   "source": [
    "Assume that $\\sigma$ values are equal to the error-weighted sum of two components: \n",
    "$$sigma^{-1} = (A \\sigma_d)^{-1} + \\sigma_{bg}^{-1}$$\n"
   ]
  },
  {
   "cell_type": "code",
   "execution_count": null,
   "metadata": {},
   "outputs": [],
   "source": [
    "G=np.c_[sigma_prior_vals**-1, np.ones_like(sigma_prior_vals)]\n",
    "m=np.linalg.inv(G.T.dot(G)).dot(G.T).dot(sigma_dz_vals**-1)\n",
    "\n",
    "minv=m**-1\n",
    "plt.plot(sigma_prior_vals, ((minv[0]*sigma_prior_vals)**-1+minv[1]**-1)**-1, label='inverse weight')"
   ]
  },
  {
   "cell_type": "code",
   "execution_count": null,
   "metadata": {
    "tags": []
   },
   "outputs": [],
   "source": [
    "plt.legend()"
   ]
  },
  {
   "cell_type": "code",
   "execution_count": null,
   "metadata": {},
   "outputs": [],
   "source": [
    "plt.figure(); S['E']['sigma_z0'].show(field='sigma_z0'); plt.colorbar()"
   ]
  },
  {
   "cell_type": "code",
   "execution_count": null,
   "metadata": {},
   "outputs": [],
   "source": []
  }
 ],
 "metadata": {
  "kernelspec": {
   "display_name": "Python 3 (ipykernel)",
   "language": "python",
   "name": "python3"
  },
  "language_info": {
   "codemirror_mode": {
    "name": "ipython",
    "version": 3
   },
   "file_extension": ".py",
   "mimetype": "text/x-python",
   "name": "python",
   "nbconvert_exporter": "python",
   "pygments_lexer": "ipython3",
   "version": "3.8.6"
  }
 },
 "nbformat": 4,
 "nbformat_minor": 4
}
