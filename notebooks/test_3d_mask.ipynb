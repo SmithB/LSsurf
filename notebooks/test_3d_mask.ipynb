{
 "cells": [
  {
   "cell_type": "code",
   "execution_count": 1,
   "id": "be656a5b-b401-4ea3-9beb-ebc337c6002d",
   "metadata": {},
   "outputs": [],
   "source": [
    "import matplotlib.pyplot as plt\n",
    "import numpy as np\n",
    "import pointCollection as pc\n",
    "import glob\n",
    "import re\n",
    "import os\n",
    "tile_re=re.compile('E(.*)_N(.*).h5')\n",
    "\n",
    "from LSsurf.fd_grid import fd_grid\n",
    "from LSsurf.grid_functions import calc_cell_area, sum_cell_area, setup_mask,\\\n",
    "    setup_averaging_ops\n",
    "import h5py\n"
   ]
  },
  {
   "cell_type": "code",
   "execution_count": 2,
   "id": "d52654b8-83e3-418e-914e-6d627b70e621",
   "metadata": {},
   "outputs": [],
   "source": [
    "%matplotlib widget"
   ]
  },
  {
   "cell_type": "code",
   "execution_count": 3,
   "id": "28c9ef1a-792b-42df-8a7f-32053d7dec57",
   "metadata": {},
   "outputs": [],
   "source": [
    "\n",
    "args={'ctr':{'x':-1600000.0, 'y':-320000.0, 't':2020.},\n",
    "      'W':{'x':6.e4, 'y':6.e4, 't':3},\n",
    "      'spacing':{'z0':100, 'dz':1.e3, 'dt':0.25},\n",
    "      'srs_proj4': '+proj=stere +lat_0=-90 +lat_ts=-71 +lon_0=0 +x_0=0 +y_0=0 +datum=WGS84 +units=m +no_defs',\n",
    "    'mask_file':None,\n",
    "    'avg_scales':[1.e4],\n",
    "    'dzdt_lags':[1,2]\n",
    "     }\n",
    "pad=np.array([-5.e4, 5.e4])\n",
    "args['mask_data']=pc.grid.data().from_h5('../../ATL1415/masks/Antarctic/Greene_22_shelf_plus_10m_mask.h5',\n",
    "                                 bounds=[args['ctr']['x']+pad, args['ctr']['y']+pad],\n",
    "                                bands=np.arange(17, 24))\n",
    "# append two coppies of the last field in the mask data to the end of the mask data\n",
    "args['mask_data'].z = np.concatenate([args['mask_data'].z,args['mask_data'].z[:,:,[-1]], args['mask_data'].z[:,:,[-1]]], axis=2)\n",
    "args['mask_data'].t = np.concatenate([args['mask_data'].t,args['mask_data'].t[-1]+np.array([1, 2])], axis=0)\n",
    "args['mask_data'].__update_size_and_shape__()\n",
    "\n",
    "\n",
    "bds={ dim: c_i+np.array([-0.5, 0.5])*args['W'][dim]  for dim, c_i in args['ctr'].items()}\n",
    "\n",
    "grids={}"
   ]
  },
  {
   "cell_type": "code",
   "execution_count": 4,
   "id": "3aec63cc-4882-4b97-9411-c0c392bb6b4d",
   "metadata": {},
   "outputs": [],
   "source": [
    "\n",
    "z0_mask_data=None\n",
    "if args['mask_data'] is not None:\n",
    "    mask_file = None\n",
    "    if len(args['mask_data'].shape)==3:\n",
    "        z0_mask_data=args['mask_data'].copy()\n",
    "        valid_t = (args['mask_data'].t >= bds['t'][0]) & (args['mask_data'].t < bds['t'][-1])\n",
    "        z0_mask_data=pc.grid.data().from_dict({\n",
    "            'x':args['mask_data'].x,\n",
    "            'y':args['mask_data'].y,\n",
    "            'z':np.sum(args['mask_data'].z[:,:,valid_t], axis=2)>0\n",
    "            })\n",
    "else:\n",
    "    mask_file=args['mask_file']\n",
    "grids['z0']=fd_grid( [bds['y'], bds['x']], args['spacing']['z0']*np.ones(2),\\\n",
    "                    name='z0', srs_proj4=args['srs_proj4'], mask_file=args['mask_file'],\\\n",
    "                    mask_data=z0_mask_data)\n",
    "\n",
    "grids['dz']=fd_grid( [bds['y'], bds['x'], bds['t']], \\\n",
    "                    [args['spacing']['dz'], args['spacing']['dz'], args['spacing']['dt']], \\\n",
    "                    name='dz', col_0=grids['z0'].N_nodes, srs_proj4=args['srs_proj4'], \\\n",
    "                    mask_file=mask_file, mask_data=args['mask_data'])\n",
    "\n",
    "grids['z0'].col_N=grids['dz'].col_N\n",
    "grids['t']=fd_grid([bds['t']], [args['spacing']['dt']], name='t')\n",
    "grids['z0'].cell_area=calc_cell_area(grids['z0'])\n"
   ]
  },
  {
   "cell_type": "code",
   "execution_count": 5,
   "id": "a6da7c6a-0a08-45c8-935b-648fc396cb07",
   "metadata": {},
   "outputs": [],
   "source": [
    "\n",
    "mask_data=args['mask_data']\n",
    "if np.any(grids['dz'].delta[0:2]>grids['z0'].delta):\n",
    "    if mask_data is not None and mask_data.t is not None and len(mask_data.t) > 1:\n",
    "        # we have a time-dependent grid\n",
    "        grids['dz'].cell_area = np.zeros(grids['dz'].shape)\n",
    "        for t_ind, this_t in enumerate(grids['dz'].ctrs[2]):\n",
    "            if this_t <= mask_data.t[0]:\n",
    "                this_mask=mask_data[:,:,0]\n",
    "            elif this_t >= mask_data.t[-1]:\n",
    "                this_mask=mask_data[:,:,-1]\n",
    "            else:\n",
    "                # find the first time slice of mask_data that is gt this time\n",
    "                i_t = np.argmin(mask_data.t < this_t)-1\n",
    "                di = (this_t - mask_data.t[i_t])/(mask_data.t[i_t+1]-mask_data.t[i_t])\n",
    "                this_mask = pc.grid.data().from_dict({'x':mask_data.x,\n",
    "                                                      'y':mask_data.y,\n",
    "                                                      'z':mask_data.z[:,:,i_t]*(1-di)+mask_data.z[:,:,i_t+1]*di})\n",
    "                temp_grid = fd_grid( [bds['y'], bds['x']], args['spacing']['z0']*np.ones(2),\\\n",
    "                     name='z0', srs_proj4=args['srs_proj4'], \\\n",
    "                    mask_data=this_mask)\n",
    "                grids['dz'].cell_area[:,:,t_ind] = sum_cell_area(temp_grid, grids['dz'])\n",
    "    else:\n",
    "        grids['dz'].cell_area=sum_cell_area(grids['z0'], grids['dz'])\n",
    "else:\n",
    "    grids['dz'].cell_area=calc_cell_area(grids['dz'])\n",
    "# last-- multiply the z0 cell area by the z0 mask\n",
    "if grids['z0'].mask is not None:\n",
    "    grids['z0'].cell_area *= grids['z0'].mask\n",
    "\n"
   ]
  },
  {
   "cell_type": "code",
   "execution_count": 6,
   "id": "dc0c1277-1811-4864-b111-5719ccfd474c",
   "metadata": {},
   "outputs": [
    {
     "name": "stdout",
     "output_type": "stream",
     "text": [
      "dzdt_lag1\n",
      "dzdt_lag2\n"
     ]
    }
   ],
   "source": [
    "ops=setup_averaging_ops(grids['dz'], grids['z0'].col_N, args, grids['dz'].cell_area)\n"
   ]
  },
  {
   "cell_type": "code",
   "execution_count": 7,
   "id": "a9040b2e-fb2c-41bf-855c-d3e809a72d97",
   "metadata": {},
   "outputs": [
    {
     "data": {
      "text/plain": [
       "{'dzdt_lag1': <LSsurf.lin_op.lin_op at 0x14bebb5b0>,\n",
       " 'dzdt_lag2': <LSsurf.lin_op.lin_op at 0x14bebbf70>,\n",
       " 'avg_dz_10000m': <LSsurf.lin_op.lin_op at 0x14bebb100>,\n",
       " 'avg_dzdt_10000m_lag1': <LSsurf.lin_op.lin_op at 0x14bebb1f0>,\n",
       " 'avg_dzdt_10000m_lag2': <LSsurf.lin_op.lin_op at 0x14bebb430>}"
      ]
     },
     "execution_count": 7,
     "metadata": {},
     "output_type": "execute_result"
    }
   ],
   "source": [
    "ops"
   ]
  },
  {
   "cell_type": "code",
   "execution_count": 8,
   "id": "1894ad0f-1768-44e4-b4e4-78c8bcbb0b99",
   "metadata": {},
   "outputs": [
    {
     "data": {
      "text/plain": [
       "(5, 5, 13)"
      ]
     },
     "execution_count": 8,
     "metadata": {},
     "output_type": "execute_result"
    }
   ],
   "source": [
    "ops['avg_dz_10000m'].dst_grid.cell_area.shape"
   ]
  },
  {
   "cell_type": "code",
   "execution_count": 9,
   "id": "530e2ecc-6842-4795-afad-fd4cb4227ec1",
   "metadata": {},
   "outputs": [
    {
     "data": {
      "application/vnd.jupyter.widget-view+json": {
       "model_id": "cb2be3f2717e4efaa381cf864e1a1e81",
       "version_major": 2,
       "version_minor": 0
      },
      "text/plain": [
       "Canvas(toolbar=Toolbar(toolitems=[('Home', 'Reset original view', 'home', 'home'), ('Back', 'Back to previous …"
      ]
     },
     "metadata": {},
     "output_type": "display_data"
    }
   ],
   "source": [
    "c_1km=ops['dzdt_lag1'].dst_grid.cell_area\n",
    "ext_1km=np.r_[grids['dz'].bds[0]+[-500, 500], grids['dz'].bds[1]+[-500, 500]]\n",
    "c_10km=ops['avg_dz_10000m'].dst_grid.cell_area\n",
    "g_10km=ops['avg_dz_10000m'].dst_grid\n",
    "ext_10km=np.r_[g_10km.bds[0]+[-500, 500], g_10km.bds[1]+[-500, 500]]\n",
    "\n",
    "hf, hax=plt.subplots(12, 2, gridspec_kw={'wspace':0.01,'hspace':0.01}, figsize=(4,12), \n",
    "                     sharex=True, sharey=True)\n",
    "for ti, ha in enumerate(hax):\n",
    "    ha[0].imshow(c_1km[:,:,ti], origin='lower', clim=[0, 1.4e6], extent=ext_1km)\n",
    "    ha[1].imshow(c_10km[:,:,ti], origin='lower', clim=[0, 1.4e8], extent=ext_10km)"
   ]
  },
  {
   "cell_type": "code",
   "execution_count": 10,
   "id": "ace12dd5-a8a7-4227-b0d9-3bb3ffd87e3b",
   "metadata": {},
   "outputs": [
    {
     "data": {
      "application/vnd.jupyter.widget-view+json": {
       "model_id": "3fb6f3d16e8749679120214385232930",
       "version_major": 2,
       "version_minor": 0
      },
      "text/plain": [
       "Canvas(toolbar=Toolbar(toolitems=[('Home', 'Reset original view', 'home', 'home'), ('Back', 'Back to previous …"
      ]
     },
     "metadata": {},
     "output_type": "display_data"
    }
   ],
   "source": [
    "c_1km=ops['dzdt_lag1'].dst_grid.cell_area\n",
    "#c_1km = grids['dz'].cell_area\n",
    "ext_1km=np.r_[grids['dz'].bds[0]+[-500, 500], grids['dz'].bds[1]+[-500, 500]]\n",
    "c_10km=ops['avg_dzdt_10000m_lag1'].dst_grid.cell_area.reshape(ops['avg_dzdt_10000m_lag1'].dst_grid.shape)\n",
    "g_10km=ops['avg_dzdt_10000m_lag1'].dst_grid\n",
    "ext_10km=np.r_[g_10km.bds[0]+[-500, 500], g_10km.bds[1]+[-500, 500]]\n",
    "\n",
    "hf, hax=plt.subplots(12, 3, gridspec_kw={'wspace':0.01,'hspace':0.01}, figsize=(4,12), \n",
    "                     sharex=True, sharey=True)\n",
    "for ti, ha in enumerate(hax):\n",
    "    ha[0].imshow(grids['dz'].mask_3d.z[:,:,ti], origin='lower', clim=[0, 1.4], extent=ext_1km)  \n",
    "    ha[1].imshow(ops['dzdt_lag1'].dst_grid.cell_area[:,:,ti], origin='lower', clim=[0, 1.4e6], extent=ext_1km)\n",
    "    #ha[1].imshow(c_1km[:,:,ti], origin='lower', clim=[0, 1.4e6], extent=ext_1km)\n",
    "    ha[2].imshow(c_10km[:,:,ti], origin='lower', clim=[0, 1.4e8], extent=ext_10km)"
   ]
  },
  {
   "cell_type": "markdown",
   "id": "3830caea-0166-408e-af9f-59925ccf085e",
   "metadata": {
    "tags": []
   },
   "source": [
    "### Show the input cells assocated with one output cell"
   ]
  },
  {
   "cell_type": "code",
   "execution_count": 11,
   "id": "6a5a773a-1c14-49dd-a0b0-1010281f9e20",
   "metadata": {},
   "outputs": [],
   "source": [
    "op=ops['avg_dzdt_10000m_lag1'].toCSR()[:, grids['dz'].col_0:grids['dz'].col_N]\n",
    "this_row=np.ravel_multi_index((0,3, 2), ops['avg_dzdt_10000m_lag1'].dst_grid.shape)"
   ]
  },
  {
   "cell_type": "code",
   "execution_count": 12,
   "id": "728a24d3-f91d-443c-98be-6083678bc626",
   "metadata": {},
   "outputs": [
    {
     "data": {
      "application/vnd.jupyter.widget-view+json": {
       "model_id": "6e4a1b1a13014361a34564dcb6708a25",
       "version_major": 2,
       "version_minor": 0
      },
      "text/plain": [
       "Canvas(toolbar=Toolbar(toolitems=[('Home', 'Reset original view', 'home', 'home'), ('Back', 'Back to previous …"
      ]
     },
     "metadata": {},
     "output_type": "display_data"
    },
    {
     "data": {
      "text/plain": [
       "<matplotlib.image.AxesImage at 0x14cd50280>"
      ]
     },
     "execution_count": 12,
     "metadata": {},
     "output_type": "execute_result"
    }
   ],
   "source": [
    "op_slice=op[this_row,:].toarray().reshape(grids['dz'].shape)\n",
    "[ii,jj,kk]=np.where(op_slice)\n",
    "np.unique(kk)\n",
    "plt.figure(); plt.imshow(op_slice[:,:,kk[1]], origin='lower')"
   ]
  },
  {
   "cell_type": "markdown",
   "id": "648f5181-2c2d-4f3d-b38e-98474ed791c5",
   "metadata": {
    "tags": []
   },
   "source": [
    "### Test the operator on simple inputs"
   ]
  },
  {
   "cell_type": "markdown",
   "id": "95cb781b-e068-4ebb-a272-f510c89609a7",
   "metadata": {
    "tags": []
   },
   "source": [
    "The first input is all ones:"
   ]
  },
  {
   "cell_type": "code",
   "execution_count": 13,
   "id": "9b77c675-eaa9-488b-ac74-99d9ab2fb565",
   "metadata": {},
   "outputs": [
    {
     "data": {
      "application/vnd.jupyter.widget-view+json": {
       "model_id": "bde7ed0de9c74e709e6d93b0ccbc448f",
       "version_major": 2,
       "version_minor": 0
      },
      "text/plain": [
       "Canvas(toolbar=Toolbar(toolitems=[('Home', 'Reset original view', 'home', 'home'), ('Back', 'Back to previous …"
      ]
     },
     "metadata": {},
     "output_type": "display_data"
    }
   ],
   "source": [
    "m_sub=np.ones(grids['dz'].shape)\n",
    "\n",
    "m = np.zeros(ops['avg_dzdt_10000m_lag1'].col_N)\n",
    "m[ops['avg_dzdt_10000m_lag1'].col_0:ops['avg_dzdt_10000m_lag1'].col_N] = m_sub.ravel()\n",
    "dzdt_est=ops['avg_dzdt_10000m_lag1']\\\n",
    "    .toCSR()\\\n",
    "    .dot(m)\\\n",
    "    .reshape(ops['avg_dzdt_10000m_lag1'].dst_grid.shape)\n",
    "hf, hax = plt.subplots(4, 4, gridspec_kw={'wspace':0.01,'hspace':0.01}, figsize=(8,8))\n",
    "hax=hax.ravel()\n",
    "for ii in range(dzdt_est.shape[2]):\n",
    "    hax[ii].imshow(dzdt_est[:,:,ii], vmin=-5, vmax=5, origin='lower')\n",
    "for ii in range(ii, len(hax)):\n",
    "    hax[ii].set_visible(False)\n"
   ]
  },
  {
   "cell_type": "markdown",
   "id": "ec3403c3-a5de-48f4-b631-160250097bdd",
   "metadata": {},
   "source": [
    "The second input has z0=0, $\\delta z$=1 for the even epochs, $\\delta z$=-1 for the odd epochs:"
   ]
  },
  {
   "cell_type": "code",
   "execution_count": 14,
   "id": "95f5fd20-4f70-45c1-aa64-1a4163654dc6",
   "metadata": {},
   "outputs": [],
   "source": [
    "m_sub=np.zeros(grids['dz'].shape)\n",
    "for i_t in range(m_sub.shape[2]):\n",
    "    m_sub[:,:,i_t]=(-1)**i_t\n",
    "m = np.zeros(ops['avg_dzdt_10000m_lag1'].col_N)\n",
    "m[ops['avg_dzdt_10000m_lag1'].col_0:ops['avg_dzdt_10000m_lag1'].col_N] = m_sub.ravel()"
   ]
  },
  {
   "cell_type": "code",
   "execution_count": 15,
   "id": "f41eda8b-b169-4203-9db3-b7c89e8afdcd",
   "metadata": {},
   "outputs": [
    {
     "data": {
      "application/vnd.jupyter.widget-view+json": {
       "model_id": "a200405bbbfa4ce9ab2f837605069ca2",
       "version_major": 2,
       "version_minor": 0
      },
      "text/plain": [
       "Canvas(toolbar=Toolbar(toolitems=[('Home', 'Reset original view', 'home', 'home'), ('Back', 'Back to previous …"
      ]
     },
     "metadata": {},
     "output_type": "display_data"
    }
   ],
   "source": [
    "dzdt_est=ops['avg_dzdt_10000m_lag1']\\\n",
    "    .toCSR()\\\n",
    "    .dot(m)\\\n",
    "    .reshape(ops['avg_dzdt_10000m_lag1'].dst_grid.shape)\n",
    "hf, hax = plt.subplots(4, 4, gridspec_kw={'wspace':0.01,'hspace':0.01}, figsize=(8,8))\n",
    "hax=hax.ravel()\n",
    "for ii in range(dzdt_est.shape[2]):\n",
    "    hax[ii].imshow(dzdt_est[:,:,ii], vmin=-5, vmax=5, origin='lower')\n",
    "for ii in range(ii, len(hax)):\n",
    "    hax[ii].set_visible(False)\n"
   ]
  },
  {
   "cell_type": "code",
   "execution_count": null,
   "id": "7e61ee5d-34a6-4d16-aaec-fd595e25d039",
   "metadata": {},
   "outputs": [],
   "source": []
  }
 ],
 "metadata": {
  "kernelspec": {
   "display_name": "Python 3 (ipykernel)",
   "language": "python",
   "name": "python3"
  },
  "language_info": {
   "codemirror_mode": {
    "name": "ipython",
    "version": 3
   },
   "file_extension": ".py",
   "mimetype": "text/x-python",
   "name": "python",
   "nbconvert_exporter": "python",
   "pygments_lexer": "ipython3",
   "version": "3.9.12"
  }
 },
 "nbformat": 4,
 "nbformat_minor": 5
}
